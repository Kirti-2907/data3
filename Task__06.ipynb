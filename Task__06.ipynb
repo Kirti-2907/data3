{
 "cells": [
  {
   "cell_type": "code",
   "execution_count": null,
   "id": "61dbce80-b435-478b-9969-ea9686864525",
   "metadata": {},
   "outputs": [],
   "source": [
    "Kirti Gondhali(IT)"
   ]
  },
  {
   "cell_type": "markdown",
   "id": "3a321054-33f2-4b38-bcdf-f346285b1c76",
   "metadata": {},
   "source": [
    "# Task:-06"
   ]
  },
  {
   "cell_type": "code",
   "execution_count": 1,
   "id": "804eb769-eda9-40e2-b435-51cb8556cb8d",
   "metadata": {},
   "outputs": [
    {
     "name": "stdout",
     "output_type": "stream",
     "text": [
      "{'title': 'A Light in the Attic', 'price': 'Â£51.77'}\n",
      "{'title': 'Tipping the Velvet', 'price': 'Â£53.74'}\n",
      "{'title': 'Soumission', 'price': 'Â£50.10'}\n",
      "{'title': 'Sharp Objects', 'price': 'Â£47.82'}\n",
      "{'title': 'Sapiens: A Brief History of Humankind', 'price': 'Â£54.23'}\n",
      "{'title': 'The Requiem Red', 'price': 'Â£22.65'}\n",
      "{'title': 'The Dirty Little Secrets of Getting Your Dream Job', 'price': 'Â£33.34'}\n",
      "{'title': 'The Coming Woman: A Novel Based on the Life of the Infamous Feminist, Victoria Woodhull', 'price': 'Â£17.93'}\n",
      "{'title': 'The Boys in the Boat: Nine Americans and Their Epic Quest for Gold at the 1936 Berlin Olympics', 'price': 'Â£22.60'}\n",
      "{'title': 'The Black Maria', 'price': 'Â£52.15'}\n",
      "{'title': 'Starving Hearts (Triangular Trade Trilogy, #1)', 'price': 'Â£13.99'}\n",
      "{'title': \"Shakespeare's Sonnets\", 'price': 'Â£20.66'}\n",
      "{'title': 'Set Me Free', 'price': 'Â£17.46'}\n",
      "{'title': \"Scott Pilgrim's Precious Little Life (Scott Pilgrim #1)\", 'price': 'Â£52.29'}\n",
      "{'title': 'Rip it Up and Start Again', 'price': 'Â£35.02'}\n",
      "{'title': 'Our Band Could Be Your Life: Scenes from the American Indie Underground, 1981-1991', 'price': 'Â£57.25'}\n",
      "{'title': 'Olio', 'price': 'Â£23.88'}\n",
      "{'title': 'Mesaerion: The Best Science Fiction Stories 1800-1849', 'price': 'Â£37.59'}\n",
      "{'title': 'Libertarianism for Beginners', 'price': 'Â£51.33'}\n",
      "{'title': \"It's Only the Himalayas\", 'price': 'Â£45.17'}\n",
      "{'title': 'In Her Wake', 'price': 'Â£12.84'}\n",
      "{'title': 'How Music Works', 'price': 'Â£37.32'}\n",
      "{'title': 'Foolproof Preserving: A Guide to Small Batch Jams, Jellies, Pickles, Condiments, and More: A Foolproof Guide to Making Small Batch Jams, Jellies, Pickles, Condiments, and More', 'price': 'Â£30.52'}\n",
      "{'title': 'Chase Me (Paris Nights #2)', 'price': 'Â£25.27'}\n",
      "{'title': 'Black Dust', 'price': 'Â£34.53'}\n",
      "{'title': 'Birdsong: A Story in Pictures', 'price': 'Â£54.64'}\n",
      "{'title': \"America's Cradle of Quarterbacks: Western Pennsylvania's Football Factory from Johnny Unitas to Joe Montana\", 'price': 'Â£22.50'}\n",
      "{'title': 'Aladdin and His Wonderful Lamp', 'price': 'Â£53.13'}\n",
      "{'title': 'Worlds Elsewhere: Journeys Around Shakespeareâ\\x80\\x99s Globe', 'price': 'Â£40.30'}\n",
      "{'title': 'Wall and Piece', 'price': 'Â£44.18'}\n",
      "{'title': 'The Four Agreements: A Practical Guide to Personal Freedom', 'price': 'Â£17.66'}\n",
      "{'title': 'The Five Love Languages: How to Express Heartfelt Commitment to Your Mate', 'price': 'Â£31.05'}\n",
      "{'title': 'The Elephant Tree', 'price': 'Â£23.82'}\n",
      "{'title': 'The Bear and the Piano', 'price': 'Â£36.89'}\n",
      "{'title': \"Sophie's World\", 'price': 'Â£15.94'}\n",
      "{'title': 'Penny Maybe', 'price': 'Â£33.29'}\n",
      "{'title': 'Maude (1883-1993):She Grew Up with the country', 'price': 'Â£18.02'}\n",
      "{'title': 'In a Dark, Dark Wood', 'price': 'Â£19.63'}\n",
      "{'title': 'Behind Closed Doors', 'price': 'Â£52.22'}\n",
      "{'title': \"You can't bury them all: Poems\", 'price': 'Â£33.63'}\n"
     ]
    }
   ],
   "source": [
    "#1\n",
    "from bs4 import BeautifulSoup\n",
    "\n",
    "all_books = []\n",
    "\n",
    "for i in range(1, 3):\n",
    "    file_path = f\"htmls/page{i}.html\" \n",
    "\n",
    "    with open(file_path, encoding=\"utf-8\") as f:\n",
    "        content = f.read()\n",
    "\n",
    "    soup = BeautifulSoup(content, \"html.parser\")\n",
    "    book_items = soup.find_all(\"article\", class_=\"product_pod\")\n",
    "\n",
    "    for book_item in book_items:\n",
    "        title = book_item.h3.a['title']\n",
    "        price = book_item.find(\"p\", class_=\"price_color\").text\n",
    "        all_books.append({\n",
    "            \"title\": title,\n",
    "            \"price\": price\n",
    "        })\n",
    "\n",
    "for book in all_books:\n",
    "    print(book)\n"
   ]
  },
  {
   "cell_type": "code",
   "execution_count": 3,
   "id": "96bdb99f-acc4-4583-b52b-ca2c7a78b59d",
   "metadata": {},
   "outputs": [
    {
     "name": "stdout",
     "output_type": "stream",
     "text": [
      "City         | Description          | Temperature\n",
      "--------------------------------------------------\n",
      "Paris        | Sunny                | 32°C\n",
      "Madrid       | Sunny                | 38°C\n",
      "Dubai        | Clear                | 34°C\n",
      "Singapore    | Partly cloudy        | 27°C\n",
      "Cape Town    | Partly cloudy        | 13°C\n"
     ]
    }
   ],
   "source": [
    "#2\n",
    "import requests\n",
    "\n",
    "city_list = [\"Paris\", \"Madrid\", \"Dubai\", \"Singapore\", \"Cape Town\"]\n",
    "weather_results = []\n",
    "\n",
    "for city_name in city_list:\n",
    "    url = f\"https://wttr.in/{city_name}?format=j1\"\n",
    "    response = requests.get(url)\n",
    "    weather_json = response.json()\n",
    "    \n",
    "    current_weather = weather_json[\"current_condition\"][0]\n",
    "    weather_desc = current_weather[\"weatherDesc\"][0][\"value\"]\n",
    "    temp_celsius = current_weather[\"temp_C\"] + \"°C\"\n",
    "    \n",
    "    weather_results.append({\n",
    "        \"city\": city_name,\n",
    "        \"description\": weather_desc,\n",
    "        \"temperature\": temp_celsius\n",
    "    })\n",
    "\n",
    "print(f\"{'City':<12} | {'Description':<20} | Temperature\")\n",
    "print(\"-\" * 50)\n",
    "for record in weather_results:\n",
    "    print(f\"{record['city']:<12} | {record['description']:<20} | {record['temperature']}\")\n"
   ]
  },
  {
   "cell_type": "code",
   "execution_count": 18,
   "id": "d5727e78-1da4-42f1-a009-f20ae7f8731c",
   "metadata": {},
   "outputs": [
    {
     "name": "stdout",
     "output_type": "stream",
     "text": [
      "Saved jobs.csv with 0 job listings.\n"
     ]
    }
   ],
   "source": [
    "#3\n",
    "from bs4 import BeautifulSoup\n",
    "import requests\n",
    "import csv\n",
    "\n",
    "all_jobs = []\n",
    "\n",
    "for i in range(1, 4):\n",
    "    url = (f\"https://realpython.github.io/fake-jobs/page/{i}/\")\n",
    "    response = requests.get(url)\n",
    "    content = response.text\n",
    "\n",
    "    soup = BeautifulSoup(content, \"html.parser\")\n",
    "    job_cards = soup.find_all(\"div\", class_=\"card-content\")\n",
    "\n",
    "    for card in job_cards:\n",
    "        title = card.find(\"h2\", class_=\"title\").get_text(strip=True)\n",
    "        company = card.find(\"h3\", class_=\"company\").get_text(strip=True)\n",
    "        location = card.find(\"p\", class_=\"location\").get_text(strip=True)\n",
    "\n",
    "        all_jobs.append({\n",
    "            \"title\": title,\n",
    "            \"company\": company,\n",
    "            \"location\": location\n",
    "        })\n",
    "with open(\"jobs.csv\", \"w\", newline=\"\", encoding=\"utf-8\") as f:\n",
    "    writer = csv.DictWriter(f, fieldnames=[\"title\", \"company\", \"location\"])\n",
    "    writer.writeheader()\n",
    "    writer.writerows(all_jobs)\n",
    "\n",
    "print(f\"Saved jobs.csv with {len(all_jobs)} job listings.\")\n"
   ]
  },
  {
   "cell_type": "code",
   "execution_count": null,
   "id": "6a6272ef-aa3a-43a7-aded-344d4d63b6ce",
   "metadata": {},
   "outputs": [],
   "source": []
  }
 ],
 "metadata": {
  "kernelspec": {
   "display_name": "Python 3 (ipykernel)",
   "language": "python",
   "name": "python3"
  },
  "language_info": {
   "codemirror_mode": {
    "name": "ipython",
    "version": 3
   },
   "file_extension": ".py",
   "mimetype": "text/x-python",
   "name": "python",
   "nbconvert_exporter": "python",
   "pygments_lexer": "ipython3",
   "version": "3.13.5"
  }
 },
 "nbformat": 4,
 "nbformat_minor": 5
}
